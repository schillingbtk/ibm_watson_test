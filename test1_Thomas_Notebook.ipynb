{
    "cells": [
        {
            "metadata": {},
            "cell_type": "code",
            "source": "\nimport ibmos2spark, os\n# @hidden_cell\n\nif os.environ.get('RUNTIME_ENV_LOCATION_TYPE') == 'external':\n    endpoint_4b8408c1209744ae9ec2926d415220a9 = 'https://s3.us.cloud-object-storage.appdomain.cloud'\nelse:\n    endpoint_4b8408c1209744ae9ec2926d415220a9 = 'https://s3.private.us.cloud-object-storage.appdomain.cloud'\n\ncredentials = {\n    'endpoint': endpoint_4b8408c1209744ae9ec2926d415220a9,\n    'service_id': 'iam-ServiceId-cbe1753b-b211-457c-8c60-2ef3393b087e',\n    'iam_service_endpoint': 'https://iam.cloud.ibm.com/oidc/token',\n    'api_key': 'Rqv2f3Dwpbm-gfWioL_gJpW_glgjjs8DSFOZLeYkGwcD'\n}\n\nconfiguration_name = 'os_4b8408c1209744ae9ec2926d415220a9_configs'\ncos = ibmos2spark.CloudObjectStorage(sc, credentials, configuration_name, 'bluemix_cos')\n\nfrom pyspark.sql import SparkSession\nspark = SparkSession.builder.getOrCreate()\ndf_data_1 = spark.read\\\n  .format('org.apache.spark.sql.execution.datasources.csv.CSVFileFormat')\\\n  .option('header', 'true')\\\n  .load(cos.url('verkauf2.csv', 'test1-donotdelete-pr-jixooauxael365'))\ndf_data_1.take(5)\n",
            "execution_count": 6,
            "outputs": [
                {
                    "output_type": "execute_result",
                    "execution_count": 6,
                    "data": {
                        "text/plain": "[Row(itemno='999999', sold=None, invno=None, date='31.01.98', notes=None, memo=None, added='1,00', size='999488848847737', color='31.01.98', custom='05.06.99', instruct=None, price='2,00', name='Artikel', verfuegbar=None),\n Row(itemno='999999', sold=None, invno=None, date='14.10.98', notes=None, memo=None, added='1,00', size=None, color=None, custom=None, instruct=None, price='2,00', name='Artikel', verfuegbar=None),\n Row(itemno='999999', sold='1', invno='1446', date=None, notes=None, memo=None, added=None, size=None, color=None, custom=None, instruct=None, price='2,00', name='Artikel', verfuegbar=None),\n Row(itemno=None, sold='1', invno='1446', date=None, notes=None, memo=None, added=None, size=None, color=None, custom=None, instruct=None, price='20,00', name='Altger\u00e4t1', verfuegbar=None),\n Row(itemno='888888', sold=None, invno=None, date=None, notes=None, memo=None, added=None, size=None, color=None, custom=None, instruct=None, price='50,00', name='Test', verfuegbar=None)]"
                    },
                    "metadata": {}
                }
            ]
        },
        {
            "metadata": {},
            "cell_type": "code",
            "source": "",
            "execution_count": null,
            "outputs": []
        }
    ],
    "metadata": {
        "kernelspec": {
            "name": "python37",
            "display_name": "Python 3.7 with Spark",
            "language": "python3"
        },
        "language_info": {
            "name": "python",
            "version": "3.7.10",
            "mimetype": "text/x-python",
            "codemirror_mode": {
                "name": "ipython",
                "version": 3
            },
            "pygments_lexer": "ipython3",
            "nbconvert_exporter": "python",
            "file_extension": ".py"
        }
    },
    "nbformat": 4,
    "nbformat_minor": 1
}